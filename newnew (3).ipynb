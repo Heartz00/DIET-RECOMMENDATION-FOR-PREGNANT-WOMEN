{
  "cells": [
    {
      "cell_type": "code",
      "source": [
        "pip install streamlit"
      ],
      "metadata": {
        "colab": {
          "base_uri": "https://localhost:8080/"
        },
        "id": "cC73rPfVSO3k",
        "outputId": "71503ee3-e448-48ce-8e8b-055f212c3821"
      },
      "execution_count": 1,
      "outputs": [
        {
          "output_type": "stream",
          "name": "stdout",
          "text": [
            "Requirement already satisfied: streamlit in /usr/local/lib/python3.10/dist-packages (1.25.0)\n",
            "Requirement already satisfied: altair<6,>=4.0 in /usr/local/lib/python3.10/dist-packages (from streamlit) (4.2.2)\n",
            "Requirement already satisfied: blinker<2,>=1.0.0 in /usr/lib/python3/dist-packages (from streamlit) (1.4)\n",
            "Requirement already satisfied: cachetools<6,>=4.0 in /usr/local/lib/python3.10/dist-packages (from streamlit) (5.3.1)\n",
            "Requirement already satisfied: click<9,>=7.0 in /usr/local/lib/python3.10/dist-packages (from streamlit) (8.1.6)\n",
            "Requirement already satisfied: importlib-metadata<7,>=1.4 in /usr/lib/python3/dist-packages (from streamlit) (4.6.4)\n",
            "Requirement already satisfied: numpy<2,>=1.19.3 in /usr/local/lib/python3.10/dist-packages (from streamlit) (1.22.4)\n",
            "Requirement already satisfied: packaging<24,>=16.8 in /usr/local/lib/python3.10/dist-packages (from streamlit) (23.1)\n",
            "Requirement already satisfied: pandas<3,>=1.3.0 in /usr/local/lib/python3.10/dist-packages (from streamlit) (1.5.3)\n",
            "Requirement already satisfied: pillow<10,>=7.1.0 in /usr/local/lib/python3.10/dist-packages (from streamlit) (8.4.0)\n",
            "Requirement already satisfied: protobuf<5,>=3.20 in /usr/local/lib/python3.10/dist-packages (from streamlit) (3.20.3)\n",
            "Requirement already satisfied: pyarrow>=6.0 in /usr/local/lib/python3.10/dist-packages (from streamlit) (9.0.0)\n",
            "Requirement already satisfied: pympler<2,>=0.9 in /usr/local/lib/python3.10/dist-packages (from streamlit) (1.0.1)\n",
            "Requirement already satisfied: python-dateutil<3,>=2.7.3 in /usr/local/lib/python3.10/dist-packages (from streamlit) (2.8.2)\n",
            "Requirement already satisfied: requests<3,>=2.18 in /usr/local/lib/python3.10/dist-packages (from streamlit) (2.27.1)\n",
            "Requirement already satisfied: rich<14,>=10.14.0 in /usr/local/lib/python3.10/dist-packages (from streamlit) (13.4.2)\n",
            "Requirement already satisfied: tenacity<9,>=8.1.0 in /usr/local/lib/python3.10/dist-packages (from streamlit) (8.2.2)\n",
            "Requirement already satisfied: toml<2,>=0.10.1 in /usr/local/lib/python3.10/dist-packages (from streamlit) (0.10.2)\n",
            "Requirement already satisfied: typing-extensions<5,>=4.1.0 in /usr/local/lib/python3.10/dist-packages (from streamlit) (4.7.1)\n",
            "Requirement already satisfied: tzlocal<5,>=1.1 in /usr/local/lib/python3.10/dist-packages (from streamlit) (4.3.1)\n",
            "Requirement already satisfied: validators<1,>=0.2 in /usr/local/lib/python3.10/dist-packages (from streamlit) (0.20.0)\n",
            "Requirement already satisfied: gitpython!=3.1.19,<4,>=3.0.7 in /usr/local/lib/python3.10/dist-packages (from streamlit) (3.1.32)\n",
            "Requirement already satisfied: pydeck<1,>=0.8 in /usr/local/lib/python3.10/dist-packages (from streamlit) (0.8.0)\n",
            "Requirement already satisfied: tornado<7,>=6.0.3 in /usr/local/lib/python3.10/dist-packages (from streamlit) (6.3.1)\n",
            "Requirement already satisfied: watchdog>=2.1.5 in /usr/local/lib/python3.10/dist-packages (from streamlit) (3.0.0)\n",
            "Requirement already satisfied: entrypoints in /usr/local/lib/python3.10/dist-packages (from altair<6,>=4.0->streamlit) (0.4)\n",
            "Requirement already satisfied: jinja2 in /usr/local/lib/python3.10/dist-packages (from altair<6,>=4.0->streamlit) (3.1.2)\n",
            "Requirement already satisfied: jsonschema>=3.0 in /usr/local/lib/python3.10/dist-packages (from altair<6,>=4.0->streamlit) (4.3.3)\n",
            "Requirement already satisfied: toolz in /usr/local/lib/python3.10/dist-packages (from altair<6,>=4.0->streamlit) (0.12.0)\n",
            "Requirement already satisfied: gitdb<5,>=4.0.1 in /usr/local/lib/python3.10/dist-packages (from gitpython!=3.1.19,<4,>=3.0.7->streamlit) (4.0.10)\n",
            "Requirement already satisfied: pytz>=2020.1 in /usr/local/lib/python3.10/dist-packages (from pandas<3,>=1.3.0->streamlit) (2022.7.1)\n",
            "Requirement already satisfied: six>=1.5 in /usr/local/lib/python3.10/dist-packages (from python-dateutil<3,>=2.7.3->streamlit) (1.16.0)\n",
            "Requirement already satisfied: urllib3<1.27,>=1.21.1 in /usr/local/lib/python3.10/dist-packages (from requests<3,>=2.18->streamlit) (1.26.16)\n",
            "Requirement already satisfied: certifi>=2017.4.17 in /usr/local/lib/python3.10/dist-packages (from requests<3,>=2.18->streamlit) (2023.5.7)\n",
            "Requirement already satisfied: charset-normalizer~=2.0.0 in /usr/local/lib/python3.10/dist-packages (from requests<3,>=2.18->streamlit) (2.0.12)\n",
            "Requirement already satisfied: idna<4,>=2.5 in /usr/local/lib/python3.10/dist-packages (from requests<3,>=2.18->streamlit) (3.4)\n",
            "Requirement already satisfied: markdown-it-py>=2.2.0 in /usr/local/lib/python3.10/dist-packages (from rich<14,>=10.14.0->streamlit) (3.0.0)\n",
            "Requirement already satisfied: pygments<3.0.0,>=2.13.0 in /usr/local/lib/python3.10/dist-packages (from rich<14,>=10.14.0->streamlit) (2.14.0)\n",
            "Requirement already satisfied: pytz-deprecation-shim in /usr/local/lib/python3.10/dist-packages (from tzlocal<5,>=1.1->streamlit) (0.1.0.post0)\n",
            "Requirement already satisfied: decorator>=3.4.0 in /usr/local/lib/python3.10/dist-packages (from validators<1,>=0.2->streamlit) (4.4.2)\n",
            "Requirement already satisfied: smmap<6,>=3.0.1 in /usr/local/lib/python3.10/dist-packages (from gitdb<5,>=4.0.1->gitpython!=3.1.19,<4,>=3.0.7->streamlit) (5.0.0)\n",
            "Requirement already satisfied: MarkupSafe>=2.0 in /usr/local/lib/python3.10/dist-packages (from jinja2->altair<6,>=4.0->streamlit) (2.1.3)\n",
            "Requirement already satisfied: attrs>=17.4.0 in /usr/local/lib/python3.10/dist-packages (from jsonschema>=3.0->altair<6,>=4.0->streamlit) (23.1.0)\n",
            "Requirement already satisfied: pyrsistent!=0.17.0,!=0.17.1,!=0.17.2,>=0.14.0 in /usr/local/lib/python3.10/dist-packages (from jsonschema>=3.0->altair<6,>=4.0->streamlit) (0.19.3)\n",
            "Requirement already satisfied: mdurl~=0.1 in /usr/local/lib/python3.10/dist-packages (from markdown-it-py>=2.2.0->rich<14,>=10.14.0->streamlit) (0.1.2)\n",
            "Requirement already satisfied: tzdata in /usr/local/lib/python3.10/dist-packages (from pytz-deprecation-shim->tzlocal<5,>=1.1->streamlit) (2023.3)\n"
          ]
        }
      ]
    },
    {
      "cell_type": "code",
      "execution_count": 2,
      "metadata": {
        "id": "Txg-E3AWoB1m"
      },
      "outputs": [],
      "source": [
        "import numpy as np\n",
        "import pandas as pd\n",
        "from sklearn.cluster import KMeans\n",
        "from sklearn.preprocessing import MinMaxScaler\n",
        "from sklearn.model_selection import train_test_split\n",
        "from sklearn.svm import SVC\n",
        "from sklearn.metrics import accuracy_score\n",
        "from sklearn.decomposition import PCA\n",
        "from sklearn.preprocessing import StandardScaler\n",
        "from sklearn.model_selection import cross_val_score\n",
        "from sklearn.feature_selection import SelectKBest, f_classif\n",
        "from sklearn.model_selection import GridSearchCV\n",
        "from sklearn.ensemble import RandomForestClassifier\n",
        "from sklearn.neural_network import MLPClassifier\n",
        "from sklearn.pipeline import Pipeline\n",
        "from sklearn.metrics import classification_report\n",
        "import matplotlib.pyplot as plt\n",
        "from sklearn.preprocessing import OneHotEncoder\n",
        "from sklearn.compose import ColumnTransformer\n",
        "import warnings\n",
        "\n",
        "warnings.filterwarnings(\"ignore\")"
      ]
    },
    {
      "cell_type": "code",
      "source": [],
      "metadata": {
        "id": "uu-YzH73d8Lh"
      },
      "execution_count": 2,
      "outputs": []
    },
    {
      "cell_type": "code",
      "execution_count": 3,
      "metadata": {
        "id": "PpEIg0e1pHM3"
      },
      "outputs": [],
      "source": [
        "# Load the dataset\n",
        "dff = pd.read_csv('/content/ABBREV.csv')\n",
        "df= dff"
      ]
    },
    {
      "cell_type": "code",
      "execution_count": 4,
      "metadata": {
        "id": "AiRSuXRGpM7l"
      },
      "outputs": [],
      "source": [
        "df.fillna(0, inplace=True)\n",
        "X = df.drop(['index', 'NDB_No', 'Shrt_Desc', 'GmWt_Desc1', 'GmWt_Desc2'], axis=1).values"
      ]
    },
    {
      "cell_type": "markdown",
      "metadata": {
        "id": "aR-TCR-lp4xy"
      },
      "source": [
        "we will preprocess the dataset and extract the clusters using an Autoencoder"
      ]
    },
    {
      "cell_type": "code",
      "execution_count": 5,
      "metadata": {
        "id": "8WjCVgLmpqC2",
        "colab": {
          "base_uri": "https://localhost:8080/"
        },
        "outputId": "b65602a1-b4e1-4bca-ef5c-981e81878660"
      },
      "outputs": [
        {
          "output_type": "stream",
          "name": "stdout",
          "text": [
            "Epoch 1/50\n",
            "440/440 [==============================] - 2s 3ms/step - loss: 0.0136 - accuracy: 0.5779 - val_loss: 0.0083 - val_accuracy: 0.6342\n",
            "Epoch 2/50\n",
            "440/440 [==============================] - 1s 2ms/step - loss: 0.0083 - accuracy: 0.7069 - val_loss: 0.0068 - val_accuracy: 0.6342\n",
            "Epoch 3/50\n",
            "440/440 [==============================] - 2s 5ms/step - loss: 0.0071 - accuracy: 0.7069 - val_loss: 0.0062 - val_accuracy: 0.6342\n",
            "Epoch 4/50\n",
            "440/440 [==============================] - 2s 5ms/step - loss: 0.0064 - accuracy: 0.7149 - val_loss: 0.0056 - val_accuracy: 0.7093\n",
            "Epoch 5/50\n",
            "440/440 [==============================] - 2s 4ms/step - loss: 0.0059 - accuracy: 0.8094 - val_loss: 0.0050 - val_accuracy: 0.8663\n",
            "Epoch 6/50\n",
            "440/440 [==============================] - 2s 4ms/step - loss: 0.0055 - accuracy: 0.8585 - val_loss: 0.0045 - val_accuracy: 0.8709\n",
            "Epoch 7/50\n",
            "440/440 [==============================] - 2s 4ms/step - loss: 0.0051 - accuracy: 0.8687 - val_loss: 0.0038 - val_accuracy: 0.8965\n",
            "Epoch 8/50\n",
            "440/440 [==============================] - 2s 4ms/step - loss: 0.0045 - accuracy: 0.8739 - val_loss: 0.0034 - val_accuracy: 0.8686\n",
            "Epoch 9/50\n",
            "440/440 [==============================] - 2s 4ms/step - loss: 0.0043 - accuracy: 0.8668 - val_loss: 0.0034 - val_accuracy: 0.8629\n",
            "Epoch 10/50\n",
            "440/440 [==============================] - 2s 5ms/step - loss: 0.0043 - accuracy: 0.8706 - val_loss: 0.0033 - val_accuracy: 0.8663\n",
            "Epoch 11/50\n",
            "440/440 [==============================] - 3s 6ms/step - loss: 0.0042 - accuracy: 0.8730 - val_loss: 0.0033 - val_accuracy: 0.8652\n",
            "Epoch 12/50\n",
            "440/440 [==============================] - 2s 4ms/step - loss: 0.0041 - accuracy: 0.8768 - val_loss: 0.0032 - val_accuracy: 0.8703\n",
            "Epoch 13/50\n",
            "440/440 [==============================] - 2s 5ms/step - loss: 0.0041 - accuracy: 0.8813 - val_loss: 0.0032 - val_accuracy: 0.8800\n",
            "Epoch 14/50\n",
            "440/440 [==============================] - 2s 6ms/step - loss: 0.0040 - accuracy: 0.8884 - val_loss: 0.0032 - val_accuracy: 0.8874\n",
            "Epoch 15/50\n",
            "440/440 [==============================] - 2s 4ms/step - loss: 0.0039 - accuracy: 0.8997 - val_loss: 0.0031 - val_accuracy: 0.8902\n",
            "Epoch 16/50\n",
            "440/440 [==============================] - 2s 4ms/step - loss: 0.0039 - accuracy: 0.9063 - val_loss: 0.0031 - val_accuracy: 0.9061\n",
            "Epoch 17/50\n",
            "440/440 [==============================] - 3s 7ms/step - loss: 0.0038 - accuracy: 0.9097 - val_loss: 0.0030 - val_accuracy: 0.9164\n",
            "Epoch 18/50\n",
            "440/440 [==============================] - 2s 5ms/step - loss: 0.0038 - accuracy: 0.9137 - val_loss: 0.0030 - val_accuracy: 0.9135\n",
            "Epoch 19/50\n",
            "440/440 [==============================] - 2s 4ms/step - loss: 0.0037 - accuracy: 0.9148 - val_loss: 0.0030 - val_accuracy: 0.9044\n",
            "Epoch 20/50\n",
            "440/440 [==============================] - 1s 3ms/step - loss: 0.0037 - accuracy: 0.9147 - val_loss: 0.0029 - val_accuracy: 0.9061\n",
            "Epoch 21/50\n",
            "440/440 [==============================] - 1s 2ms/step - loss: 0.0037 - accuracy: 0.9167 - val_loss: 0.0029 - val_accuracy: 0.9033\n",
            "Epoch 22/50\n",
            "440/440 [==============================] - 1s 2ms/step - loss: 0.0036 - accuracy: 0.9150 - val_loss: 0.0029 - val_accuracy: 0.9147\n",
            "Epoch 23/50\n",
            "440/440 [==============================] - 1s 2ms/step - loss: 0.0036 - accuracy: 0.9167 - val_loss: 0.0028 - val_accuracy: 0.9039\n",
            "Epoch 24/50\n",
            "440/440 [==============================] - 1s 2ms/step - loss: 0.0036 - accuracy: 0.9154 - val_loss: 0.0028 - val_accuracy: 0.9073\n",
            "Epoch 25/50\n",
            "440/440 [==============================] - 1s 2ms/step - loss: 0.0036 - accuracy: 0.9167 - val_loss: 0.0028 - val_accuracy: 0.9078\n",
            "Epoch 26/50\n",
            "440/440 [==============================] - 1s 2ms/step - loss: 0.0036 - accuracy: 0.9252 - val_loss: 0.0028 - val_accuracy: 0.9175\n",
            "Epoch 27/50\n",
            "440/440 [==============================] - 1s 3ms/step - loss: 0.0036 - accuracy: 0.9292 - val_loss: 0.0028 - val_accuracy: 0.9164\n",
            "Epoch 28/50\n",
            "440/440 [==============================] - 1s 3ms/step - loss: 0.0035 - accuracy: 0.9306 - val_loss: 0.0027 - val_accuracy: 0.9187\n",
            "Epoch 29/50\n",
            "440/440 [==============================] - 1s 2ms/step - loss: 0.0035 - accuracy: 0.9315 - val_loss: 0.0027 - val_accuracy: 0.9221\n",
            "Epoch 30/50\n",
            "440/440 [==============================] - 1s 2ms/step - loss: 0.0035 - accuracy: 0.9315 - val_loss: 0.0027 - val_accuracy: 0.9187\n",
            "Epoch 31/50\n",
            "440/440 [==============================] - 1s 2ms/step - loss: 0.0035 - accuracy: 0.9336 - val_loss: 0.0027 - val_accuracy: 0.9181\n",
            "Epoch 32/50\n",
            "440/440 [==============================] - 1s 2ms/step - loss: 0.0035 - accuracy: 0.9327 - val_loss: 0.0027 - val_accuracy: 0.9187\n",
            "Epoch 33/50\n",
            "440/440 [==============================] - 1s 2ms/step - loss: 0.0035 - accuracy: 0.9333 - val_loss: 0.0027 - val_accuracy: 0.9249\n",
            "Epoch 34/50\n",
            "440/440 [==============================] - 1s 2ms/step - loss: 0.0035 - accuracy: 0.9327 - val_loss: 0.0027 - val_accuracy: 0.9226\n",
            "Epoch 35/50\n",
            "440/440 [==============================] - 1s 2ms/step - loss: 0.0035 - accuracy: 0.9330 - val_loss: 0.0027 - val_accuracy: 0.9272\n",
            "Epoch 36/50\n",
            "440/440 [==============================] - 1s 2ms/step - loss: 0.0035 - accuracy: 0.9334 - val_loss: 0.0027 - val_accuracy: 0.9215\n",
            "Epoch 37/50\n",
            "440/440 [==============================] - 1s 2ms/step - loss: 0.0035 - accuracy: 0.9333 - val_loss: 0.0027 - val_accuracy: 0.9278\n",
            "Epoch 38/50\n",
            "440/440 [==============================] - 1s 2ms/step - loss: 0.0035 - accuracy: 0.9332 - val_loss: 0.0027 - val_accuracy: 0.9226\n",
            "Epoch 39/50\n",
            "440/440 [==============================] - 1s 2ms/step - loss: 0.0035 - accuracy: 0.9327 - val_loss: 0.0027 - val_accuracy: 0.9272\n",
            "Epoch 40/50\n",
            "440/440 [==============================] - 1s 2ms/step - loss: 0.0035 - accuracy: 0.9334 - val_loss: 0.0027 - val_accuracy: 0.9215\n",
            "Epoch 41/50\n",
            "440/440 [==============================] - 1s 3ms/step - loss: 0.0035 - accuracy: 0.9336 - val_loss: 0.0027 - val_accuracy: 0.9278\n",
            "Epoch 42/50\n",
            "440/440 [==============================] - 1s 3ms/step - loss: 0.0035 - accuracy: 0.9327 - val_loss: 0.0027 - val_accuracy: 0.9226\n",
            "Epoch 43/50\n",
            "440/440 [==============================] - 1s 2ms/step - loss: 0.0035 - accuracy: 0.9317 - val_loss: 0.0027 - val_accuracy: 0.9221\n",
            "Epoch 44/50\n",
            "440/440 [==============================] - 1s 2ms/step - loss: 0.0035 - accuracy: 0.9329 - val_loss: 0.0027 - val_accuracy: 0.9232\n",
            "Epoch 45/50\n",
            "440/440 [==============================] - 1s 2ms/step - loss: 0.0035 - accuracy: 0.9317 - val_loss: 0.0027 - val_accuracy: 0.9249\n",
            "Epoch 46/50\n",
            "440/440 [==============================] - 1s 2ms/step - loss: 0.0035 - accuracy: 0.9332 - val_loss: 0.0027 - val_accuracy: 0.9226\n",
            "Epoch 47/50\n",
            "440/440 [==============================] - 1s 2ms/step - loss: 0.0035 - accuracy: 0.9325 - val_loss: 0.0027 - val_accuracy: 0.9221\n",
            "Epoch 48/50\n",
            "440/440 [==============================] - 1s 2ms/step - loss: 0.0035 - accuracy: 0.9322 - val_loss: 0.0027 - val_accuracy: 0.9192\n",
            "Epoch 49/50\n",
            "440/440 [==============================] - 1s 2ms/step - loss: 0.0035 - accuracy: 0.9322 - val_loss: 0.0027 - val_accuracy: 0.9221\n",
            "Epoch 50/50\n",
            "440/440 [==============================] - 1s 2ms/step - loss: 0.0035 - accuracy: 0.9332 - val_loss: 0.0027 - val_accuracy: 0.9295\n"
          ]
        },
        {
          "output_type": "execute_result",
          "data": {
            "text/plain": [
              "<keras.callbacks.History at 0x7c3dc367ee90>"
            ]
          },
          "metadata": {},
          "execution_count": 5
        }
      ],
      "source": [
        "# Feature Scaling\n",
        "scaler = MinMaxScaler()\n",
        "X_scaled = scaler.fit_transform(X)\n",
        "\n",
        "# Autoencoder\n",
        "from keras.layers import Input, Dense\n",
        "from keras.models import Model\n",
        "\n",
        "# Set the encoding dimension\n",
        "encoding_dim = 3\n",
        "\n",
        "# Input layer\n",
        "input_layer = Input(shape=(X.shape[1],))\n",
        "\n",
        "# Encoder layers\n",
        "encoder = Dense(encoding_dim, activation='relu')(input_layer)\n",
        "\n",
        "# Decoder layers\n",
        "decoder = Dense(X.shape[1], activation='softmax')(encoder)\n",
        "\n",
        "# Autoencoder model\n",
        "autoencoder = Model(inputs=input_layer, outputs=decoder)\n",
        "\n",
        "# Compile and train the autoencoder\n",
        "autoencoder.compile(optimizer='adam', loss='mean_squared_error', metrics=['accuracy'])\n",
        "autoencoder.fit(X_scaled, X_scaled, epochs=50, batch_size=16, shuffle=True, validation_split=0.2)"
      ]
    },
    {
      "cell_type": "markdown",
      "metadata": {
        "id": "peqjDgEXp8eL"
      },
      "source": [
        "After training the autoencoder, we can extract the encoded features:"
      ]
    },
    {
      "cell_type": "code",
      "execution_count": 6,
      "metadata": {
        "id": "iu5X1Y6_p8-6",
        "colab": {
          "base_uri": "https://localhost:8080/"
        },
        "outputId": "c2b183ac-04b7-43e4-96b8-f555ba3ad618"
      },
      "outputs": [
        {
          "output_type": "stream",
          "name": "stdout",
          "text": [
            "275/275 [==============================] - 0s 1ms/step\n"
          ]
        }
      ],
      "source": [
        "# Extract encoded features\n",
        "encoder = Model(inputs=input_layer, outputs=encoder)\n",
        "encoded_features = encoder.predict(X_scaled)"
      ]
    },
    {
      "cell_type": "markdown",
      "metadata": {
        "id": "4ro7IsWMp_Rq"
      },
      "source": [
        "Now, we can apply K-means clustering to group the samples into three clusters:"
      ]
    },
    {
      "cell_type": "code",
      "source": [],
      "metadata": {
        "id": "NIvueiR959Rx"
      },
      "execution_count": 6,
      "outputs": []
    },
    {
      "cell_type": "code",
      "execution_count": 7,
      "metadata": {
        "id": "B7-ZNlEFqBQ_"
      },
      "outputs": [],
      "source": [
        "# Apply K-means clustering\n",
        "kmeans = KMeans(n_clusters=3, random_state=42)\n",
        "kmeans.fit(encoded_features)\n",
        "clusters = kmeans.predict(encoded_features)\n",
        "\n",
        "high_caloric = encoded_features[clusters == 0]\n",
        "mid_caloric = encoded_features[clusters == 1]\n",
        "low_caloric = encoded_features[clusters == 2]\n",
        "df['cluster'] = clusters"
      ]
    },
    {
      "cell_type": "code",
      "source": [
        "# Visualize the clusters\n",
        "fig = plt.figure()\n",
        "ax = fig.add_subplot(111, projection='3d')\n",
        "\n",
        "# Plot the high-caloric food cluster\n",
        "ax.scatter(high_caloric[:, 0], high_caloric[:, 1], high_caloric[:, 2], c='r', label='High-Caloric')\n",
        "\n",
        "# Plot the mid-caloric food cluster\n",
        "ax.scatter(mid_caloric[:, 0], mid_caloric[:, 1], mid_caloric[:, 2], c='g', label='Mid-Caloric')\n",
        "\n",
        "# Plot the low-caloric food cluster\n",
        "ax.scatter(low_caloric[:, 0], low_caloric[:, 1], low_caloric[:, 2], c='b', label='Low-Caloric')\n",
        "\n",
        "ax.set_xlabel('Dimension 1')\n",
        "ax.set_ylabel('Dimension 2')\n",
        "ax.set_zlabel('Dimension 3')\n",
        "\n",
        "ax.legend()\n",
        "plt.title('Cluster Visualization')\n",
        "plt.show()"
      ],
      "metadata": {
        "colab": {
          "base_uri": "https://localhost:8080/",
          "height": 431
        },
        "id": "S59dIUCCRZ84",
        "outputId": "e999f465-9587-4b15-8c03-678dadc4c9a8"
      },
      "execution_count": 8,
      "outputs": [
        {
          "output_type": "display_data",
          "data": {
            "text/plain": [
              "<Figure size 640x480 with 1 Axes>"
            ],
            "image/png": "[encoded data removed]"
          },
          "metadata": {}
        }
      ]
    },
    {
      "cell_type": "code",
      "source": [
        "encoded_features"
      ],
      "metadata": {
        "id": "W9eg7F7e6pzP",
        "colab": {
          "base_uri": "https://localhost:8080/"
        },
        "outputId": "6b01b770-4708-4ae2-dc52-6412014fd5d4"
      },
      "execution_count": 9,
      "outputs": [
        {
          "output_type": "execute_result",
          "data": {
            "text/plain": [
              "array([[0.        , 0.8870088 , 0.38101453],\n",
              "       [0.        , 0.9309974 , 0.4871865 ],\n",
              "       [0.        , 0.11003852, 0.07409137],\n",
              "       ...,\n",
              "       [0.        , 0.3203851 , 3.3784225 ],\n",
              "       [0.        , 4.1031094 , 1.4793952 ],\n",
              "       [0.        , 4.1973786 , 1.2519727 ]], dtype=float32)"
            ]
          },
          "metadata": {},
          "execution_count": 9
        }
      ]
    },
    {
      "cell_type": "markdown",
      "metadata": {
        "id": "CnguHk8EqDWA"
      },
      "source": [
        "Next, we can generate the right food diets using Particle Swarm Optimization (PSO) for the CNN model:"
      ]
    },
    {
      "cell_type": "code",
      "execution_count": 10,
      "metadata": {
        "id": "9wKp8hNOqbsm",
        "colab": {
          "base_uri": "https://localhost:8080/"
        },
        "outputId": "e5201006-e23c-4736-e2ee-4e7eb6b8211d"
      },
      "outputs": [
        {
          "output_type": "stream",
          "name": "stdout",
          "text": [
            "Requirement already satisfied: pyswarms in /usr/local/lib/python3.10/dist-packages (1.3.0)\n",
            "Requirement already satisfied: scipy in /usr/local/lib/python3.10/dist-packages (from pyswarms) (1.10.1)\n",
            "Requirement already satisfied: numpy in /usr/local/lib/python3.10/dist-packages (from pyswarms) (1.22.4)\n",
            "Requirement already satisfied: matplotlib>=1.3.1 in /usr/local/lib/python3.10/dist-packages (from pyswarms) (3.7.1)\n",
            "Requirement already satisfied: attrs in /usr/local/lib/python3.10/dist-packages (from pyswarms) (23.1.0)\n",
            "Requirement already satisfied: tqdm in /usr/local/lib/python3.10/dist-packages (from pyswarms) (4.65.0)\n",
            "Requirement already satisfied: future in /usr/local/lib/python3.10/dist-packages (from pyswarms) (0.18.3)\n",
            "Requirement already satisfied: pyyaml in /usr/local/lib/python3.10/dist-packages (from pyswarms) (6.0.1)\n",
            "Requirement already satisfied: contourpy>=1.0.1 in /usr/local/lib/python3.10/dist-packages (from matplotlib>=1.3.1->pyswarms) (1.1.0)\n",
            "Requirement already satisfied: cycler>=0.10 in /usr/local/lib/python3.10/dist-packages (from matplotlib>=1.3.1->pyswarms) (0.11.0)\n",
            "Requirement already satisfied: fonttools>=4.22.0 in /usr/local/lib/python3.10/dist-packages (from matplotlib>=1.3.1->pyswarms) (4.41.0)\n",
            "Requirement already satisfied: kiwisolver>=1.0.1 in /usr/local/lib/python3.10/dist-packages (from matplotlib>=1.3.1->pyswarms) (1.4.4)\n",
            "Requirement already satisfied: packaging>=20.0 in /usr/local/lib/python3.10/dist-packages (from matplotlib>=1.3.1->pyswarms) (23.1)\n",
            "Requirement already satisfied: pillow>=6.2.0 in /usr/local/lib/python3.10/dist-packages (from matplotlib>=1.3.1->pyswarms) (8.4.0)\n",
            "Requirement already satisfied: pyparsing>=2.3.1 in /usr/local/lib/python3.10/dist-packages (from matplotlib>=1.3.1->pyswarms) (3.1.0)\n",
            "Requirement already satisfied: python-dateutil>=2.7 in /usr/local/lib/python3.10/dist-packages (from matplotlib>=1.3.1->pyswarms) (2.8.2)\n",
            "Requirement already satisfied: six>=1.5 in /usr/local/lib/python3.10/dist-packages (from python-dateutil>=2.7->matplotlib>=1.3.1->pyswarms) (1.16.0)\n"
          ]
        }
      ],
      "source": [
        "pip install pyswarms"
      ]
    },
    {
      "cell_type": "code",
      "execution_count": 11,
      "metadata": {
        "id": "A2UBrlS9MkGp"
      },
      "outputs": [],
      "source": [
        "import pyswarms as ps"
      ]
    },
    {
      "cell_type": "code",
      "execution_count": 12,
      "metadata": {
        "id": "BLdIaDdKabNf",
        "colab": {
          "base_uri": "https://localhost:8080/"
        },
        "outputId": "e52ba38e-5829-4640-e59b-a0247760e9a0"
      },
      "outputs": [
        {
          "output_type": "stream",
          "name": "stderr",
          "text": [
            "2023-07-25 16:25:27,434 - pyswarms.single.global_best - INFO - Optimize for 20 iters with {'c1': 0.5, 'c2': 0.3, 'w': 0.9}\n",
            "pyswarms.single.global_best:   0%|          |0/20"
          ]
        },
        {
          "output_type": "stream",
          "name": "stdout",
          "text": [
            "Shape of selected_features: (3, 49)\n"
          ]
        },
        {
          "output_type": "stream",
          "name": "stderr",
          "text": [
            "pyswarms.single.global_best:   5%|▌         |1/20, best_cost=0.551"
          ]
        },
        {
          "output_type": "stream",
          "name": "stdout",
          "text": [
            "Shape of selected_features: (3, 49)\n"
          ]
        },
        {
          "output_type": "stream",
          "name": "stderr",
          "text": [
            "pyswarms.single.global_best:  10%|█         |2/20, best_cost=0.551"
          ]
        },
        {
          "output_type": "stream",
          "name": "stdout",
          "text": [
            "Shape of selected_features: (3, 49)\n"
          ]
        },
        {
          "output_type": "stream",
          "name": "stderr",
          "text": [
            "pyswarms.single.global_best:  15%|█▌        |3/20, best_cost=0.551"
          ]
        },
        {
          "output_type": "stream",
          "name": "stdout",
          "text": [
            "Shape of selected_features: (3, 49)\n"
          ]
        },
        {
          "output_type": "stream",
          "name": "stderr",
          "text": [
            "pyswarms.single.global_best:  20%|██        |4/20, best_cost=0.551"
          ]
        },
        {
          "output_type": "stream",
          "name": "stdout",
          "text": [
            "Shape of selected_features: (3, 49)\n"
          ]
        },
        {
          "output_type": "stream",
          "name": "stderr",
          "text": [
            "pyswarms.single.global_best:  25%|██▌       |5/20, best_cost=0.551"
          ]
        },
        {
          "output_type": "stream",
          "name": "stdout",
          "text": [
            "Shape of selected_features: (3, 49)\n"
          ]
        },
        {
          "output_type": "stream",
          "name": "stderr",
          "text": [
            "pyswarms.single.global_best:  30%|███       |6/20, best_cost=0.551"
          ]
        },
        {
          "output_type": "stream",
          "name": "stdout",
          "text": [
            "Shape of selected_features: (3, 49)\n"
          ]
        },
        {
          "output_type": "stream",
          "name": "stderr",
          "text": [
            "pyswarms.single.global_best:  35%|███▌      |7/20, best_cost=0.55"
          ]
        },
        {
          "output_type": "stream",
          "name": "stdout",
          "text": [
            "Shape of selected_features: (3, 49)\n"
          ]
        },
        {
          "output_type": "stream",
          "name": "stderr",
          "text": [
            "pyswarms.single.global_best:  40%|████      |8/20, best_cost=0.55"
          ]
        },
        {
          "output_type": "stream",
          "name": "stdout",
          "text": [
            "Shape of selected_features: (3, 49)\n"
          ]
        },
        {
          "output_type": "stream",
          "name": "stderr",
          "text": [
            "pyswarms.single.global_best:  45%|████▌     |9/20, best_cost=0.55"
          ]
        },
        {
          "output_type": "stream",
          "name": "stdout",
          "text": [
            "Shape of selected_features: (3, 49)\n"
          ]
        },
        {
          "output_type": "stream",
          "name": "stderr",
          "text": [
            "pyswarms.single.global_best:  50%|█████     |10/20, best_cost=0.55"
          ]
        },
        {
          "output_type": "stream",
          "name": "stdout",
          "text": [
            "Shape of selected_features: (3, 49)\n"
          ]
        },
        {
          "output_type": "stream",
          "name": "stderr",
          "text": [
            "pyswarms.single.global_best:  55%|█████▌    |11/20, best_cost=0.55"
          ]
        },
        {
          "output_type": "stream",
          "name": "stdout",
          "text": [
            "Shape of selected_features: (3, 49)\n"
          ]
        },
        {
          "output_type": "stream",
          "name": "stderr",
          "text": [
            "pyswarms.single.global_best:  60%|██████    |12/20, best_cost=0.55"
          ]
        },
        {
          "output_type": "stream",
          "name": "stdout",
          "text": [
            "Shape of selected_features: (3, 49)\n"
          ]
        },
        {
          "output_type": "stream",
          "name": "stderr",
          "text": [
            "pyswarms.single.global_best:  65%|██████▌   |13/20, best_cost=0.55"
          ]
        },
        {
          "output_type": "stream",
          "name": "stdout",
          "text": [
            "Shape of selected_features: (3, 49)\n"
          ]
        },
        {
          "output_type": "stream",
          "name": "stderr",
          "text": [
            "pyswarms.single.global_best:  70%|███████   |14/20, best_cost=0.55"
          ]
        },
        {
          "output_type": "stream",
          "name": "stdout",
          "text": [
            "Shape of selected_features: (3, 49)\n"
          ]
        },
        {
          "output_type": "stream",
          "name": "stderr",
          "text": [
            "pyswarms.single.global_best:  75%|███████▌  |15/20, best_cost=0.549"
          ]
        },
        {
          "output_type": "stream",
          "name": "stdout",
          "text": [
            "Shape of selected_features: (3, 49)\n"
          ]
        },
        {
          "output_type": "stream",
          "name": "stderr",
          "text": [
            "pyswarms.single.global_best:  80%|████████  |16/20, best_cost=0.549"
          ]
        },
        {
          "output_type": "stream",
          "name": "stdout",
          "text": [
            "Shape of selected_features: (3, 49)\n"
          ]
        },
        {
          "output_type": "stream",
          "name": "stderr",
          "text": [
            "pyswarms.single.global_best:  85%|████████▌ |17/20, best_cost=0.549"
          ]
        },
        {
          "output_type": "stream",
          "name": "stdout",
          "text": [
            "Shape of selected_features: (3, 49)\n"
          ]
        },
        {
          "output_type": "stream",
          "name": "stderr",
          "text": [
            "pyswarms.single.global_best:  90%|█████████ |18/20, best_cost=0.549"
          ]
        },
        {
          "output_type": "stream",
          "name": "stdout",
          "text": [
            "Shape of selected_features: (3, 49)\n"
          ]
        },
        {
          "output_type": "stream",
          "name": "stderr",
          "text": [
            "pyswarms.single.global_best:  95%|█████████▌|19/20, best_cost=0.549"
          ]
        },
        {
          "output_type": "stream",
          "name": "stdout",
          "text": [
            "Shape of selected_features: (3, 49)\n"
          ]
        },
        {
          "output_type": "stream",
          "name": "stderr",
          "text": [
            "pyswarms.single.global_best: 100%|██████████|20/20, best_cost=0.542\n",
            "2023-07-25 16:27:01,898 - pyswarms.single.global_best - INFO - Optimization finished | best cost: 0.5418657565415245, best pos: [ 1.2698253   0.87417898  0.87515026  0.83960852 -0.08368427 -0.03476799\n",
            "  0.6024447   0.47560104  0.56551636  0.18058041  0.20141685  1.83430359\n",
            " -0.24875583  0.03105186  0.09412948  0.3479243   0.46132977  1.58040491\n",
            "  0.25283028  0.09737592  0.8666248   0.23370329  0.7456103   0.2627895\n",
            "  0.32382136  0.04217892  0.26979836  0.95412506  0.31831595  0.39793357\n",
            "  0.49630981  0.42320701  1.06121298  0.59117953 -0.26310383  0.36097524\n",
            "  0.48238516  0.2500114   0.35038452  0.09302147  0.78368703  0.47218802\n",
            "  0.53807695 -0.57758972 -0.11740653  0.51046094  0.79068768  0.86316908\n",
            "  0.49482877]\n"
          ]
        }
      ],
      "source": [
        "X = X\n",
        "y = df['cluster'].values\n",
        "from sklearn.svm import LinearSVC\n",
        "# Split the data into train and test sets\n",
        "X_train, X_test, y_train, y_test = train_test_split(X, y, test_size=0.2, random_state=42)\n",
        "def calculate_fitness(position, X, y):\n",
        "    selected_features = position >= 0.5\n",
        "    print('Shape of selected_features:', selected_features.shape)\n",
        "    X_selected = X[:, selected_features.shape[0]]\n",
        "    clf = LinearSVC()\n",
        "    score = np.mean(cross_val_score(clf, X_selected.reshape(-1,1), y, cv=5))\n",
        "    return score\n",
        "\n",
        "def pso_feature_selection(X, y, num_particles, num_iterations):\n",
        "    num_features = X.shape[1]\n",
        "    options = {'c1': 0.5, 'c2': 0.3, 'w': 0.9}\n",
        "    dimensions = num_features\n",
        "\n",
        "    optimizer = ps.single.GlobalBestPSO(n_particles=num_particles, dimensions=dimensions, options=options)\n",
        "\n",
        "    cost, pos = optimizer.optimize(calculate_fitness, iters=num_iterations, X=X, y=y)\n",
        "\n",
        "    selected_features = pos >= 0.5\n",
        "    X_selected = X[:, selected_features]\n",
        "\n",
        "    return X_selected\n",
        "\n",
        "num_particles = encoded_features.shape[1]  # Update num_particles to match the number of features\n",
        "X_selected = pso_feature_selection(X, y, num_particles=num_particles, num_iterations=20)"
      ]
    },
    {
      "cell_type": "code",
      "source": [],
      "metadata": {
        "id": "YKnRcGM4t6_f"
      },
      "execution_count": 12,
      "outputs": []
    },
    {
      "cell_type": "code",
      "execution_count": 13,
      "metadata": {
        "id": "JVpN2l84F9-n"
      },
      "outputs": [],
      "source": [
        "X_train, X_test, y_train, y_test = train_test_split(X_selected, y, test_size=0.2, random_state=42)\n",
        "# Reshape the data for compatibility with CNN input\n",
        "X_train = X_train.reshape(X_train.shape[0], X_train.shape[1], 1)\n",
        "X_test = X_test.reshape(X_test.shape[0], X_test.shape[1], 1)"
      ]
    },
    {
      "cell_type": "code",
      "source": [
        "y.shape"
      ],
      "metadata": {
        "id": "XiO4SfjJnHnL",
        "colab": {
          "base_uri": "https://localhost:8080/"
        },
        "outputId": "1060cba0-0c9e-4d73-ae47-9e86884b1114"
      },
      "execution_count": 14,
      "outputs": [
        {
          "output_type": "execute_result",
          "data": {
            "text/plain": [
              "(8790,)"
            ]
          },
          "metadata": {},
          "execution_count": 14
        }
      ]
    },
    {
      "cell_type": "code",
      "execution_count": 15,
      "metadata": {
        "id": "mpT4d9YLGI-t",
        "colab": {
          "base_uri": "https://localhost:8080/"
        },
        "outputId": "0a315402-9516-4d57-853b-214a09db9e51"
      },
      "outputs": [
        {
          "output_type": "stream",
          "name": "stdout",
          "text": [
            "Epoch 1/10\n",
            "110/110 [==============================] - 4s 19ms/step - loss: 2.2276 - accuracy: 0.7996 - val_loss: 0.9340 - val_accuracy: 0.8874\n",
            "Epoch 2/10\n",
            "110/110 [==============================] - 1s 6ms/step - loss: 0.9579 - accuracy: 0.9016 - val_loss: 2.4841 - val_accuracy: 0.8868\n",
            "Epoch 3/10\n",
            "110/110 [==============================] - 1s 6ms/step - loss: 0.5798 - accuracy: 0.9174 - val_loss: 0.3434 - val_accuracy: 0.9408\n",
            "Epoch 4/10\n",
            "110/110 [==============================] - 1s 8ms/step - loss: 0.2179 - accuracy: 0.9396 - val_loss: 0.3765 - val_accuracy: 0.9403\n",
            "Epoch 5/10\n",
            "110/110 [==============================] - 1s 10ms/step - loss: 0.2002 - accuracy: 0.9468 - val_loss: 0.2889 - val_accuracy: 0.9465\n",
            "Epoch 6/10\n",
            "110/110 [==============================] - 1s 10ms/step - loss: 0.1587 - accuracy: 0.9494 - val_loss: 0.1684 - val_accuracy: 0.9482\n",
            "Epoch 7/10\n",
            "110/110 [==============================] - 2s 14ms/step - loss: 0.1671 - accuracy: 0.9468 - val_loss: 0.2290 - val_accuracy: 0.9534\n",
            "Epoch 8/10\n",
            "110/110 [==============================] - 2s 16ms/step - loss: 0.1557 - accuracy: 0.9585 - val_loss: 1.4888 - val_accuracy: 0.9323\n",
            "Epoch 9/10\n",
            "110/110 [==============================] - 2s 14ms/step - loss: 0.4612 - accuracy: 0.9413 - val_loss: 0.4587 - val_accuracy: 0.9187\n",
            "Epoch 10/10\n",
            "110/110 [==============================] - 1s 12ms/step - loss: 0.1823 - accuracy: 0.9575 - val_loss: 0.2168 - val_accuracy: 0.9482\n"
          ]
        },
        {
          "output_type": "execute_result",
          "data": {
            "text/plain": [
              "<keras.callbacks.History at 0x7c3dc139db40>"
            ]
          },
          "metadata": {},
          "execution_count": 15
        }
      ],
      "source": [
        "from keras.models import Sequential\n",
        "from keras.layers import Conv1D, MaxPooling1D, Flatten, Dense\n",
        "from keras.utils import to_categorical\n",
        "\n",
        "# Train the CNN model\n",
        "# ...\n",
        "\n",
        "# Encode target labels as one-hot vectors\n",
        "num_classes = 3\n",
        "y_train_encoded = to_categorical(y_train, num_classes)\n",
        "y_test_encoded = to_categorical(y_test, num_classes)\n",
        "\n",
        "# Build the CNN model\n",
        "model = Sequential()\n",
        "model.add(Conv1D(32, kernel_size=3, activation='relu', input_shape=(X_train.shape[1], 1)))\n",
        "model.add(MaxPooling1D(pool_size=2))\n",
        "model.add(Conv1D(64, kernel_size=3, activation='relu'))\n",
        "model.add(MaxPooling1D(pool_size=2))\n",
        "model.add(Flatten())\n",
        "model.add(Dense(128, activation='relu'))\n",
        "model.add(Dense(num_classes, activation='softmax'))\n",
        "\n",
        "# Compile the model\n",
        "model.compile(optimizer='adam', loss='categorical_crossentropy', metrics=['accuracy'])\n",
        "\n",
        "# Train the model\n",
        "model.fit(X_train, y_train_encoded, epochs=10, batch_size=64, validation_data=(X_test, y_test_encoded))"
      ]
    },
    {
      "cell_type": "code",
      "execution_count": 16,
      "metadata": {
        "id": "SsWvaWDMGiMh",
        "colab": {
          "base_uri": "https://localhost:8080/"
        },
        "outputId": "5edab872-407c-4dfd-8bd8-4872ab2e6035"
      },
      "outputs": [
        {
          "output_type": "stream",
          "name": "stdout",
          "text": [
            "55/55 [==============================] - 0s 3ms/step - loss: 0.2168 - accuracy: 0.9482\n",
            "Test Accuracy: 0.9482\n"
          ]
        }
      ],
      "source": [
        "from sklearn.metrics import precision_score, recall_score, f1_score\n",
        "# Evaluate the model on the test data\n",
        "from keras.utils import to_categorical\n",
        "\n",
        "# Encode target labels as one-hot vectors\n",
        "num_classes = 3\n",
        "y_test_encoded = to_categorical(y_test, num_classes)\n",
        "\n",
        "# Evaluate the model\n",
        "loss, accuracy = model.evaluate(X_test, y_test_encoded)\n",
        "print(f\"Test Accuracy: {accuracy:.4f}\")"
      ]
    },
    {
      "cell_type": "code",
      "source": [
        "y_pred = model.predict(X_test)"
      ],
      "metadata": {
        "id": "JbMxlKBRuiMX",
        "colab": {
          "base_uri": "https://localhost:8080/"
        },
        "outputId": "6b519cac-2e6a-42d2-df3e-a03796607017"
      },
      "execution_count": 17,
      "outputs": [
        {
          "output_type": "stream",
          "name": "stdout",
          "text": [
            "55/55 [==============================] - 0s 3ms/step\n"
          ]
        }
      ]
    },
    {
      "cell_type": "code",
      "source": [
        "kmeans = KMeans(n_clusters=3, random_state=42)\n",
        "kmeans.fit(X_selected)\n",
        "best_clusters = kmeans.predict(X_selected)\n",
        "df['cluster1'] = best_clusters\n",
        "high_caloric1 = df[best_clusters == 0]\n",
        "mid_caloric1 = df[best_clusters == 1]\n",
        "low_caloric1 = df[best_clusters == 2]"
      ],
      "metadata": {
        "id": "mrTyRkrRuokt"
      },
      "execution_count": 18,
      "outputs": []
    },
    {
      "cell_type": "code",
      "execution_count": 19,
      "metadata": {
        "id": "XSNjoHoFPG_z",
        "colab": {
          "base_uri": "https://localhost:8080/",
          "height": 564
        },
        "outputId": "5a8f2fd0-418a-4fad-bc29-b86c9a431a20"
      },
      "outputs": [
        {
          "output_type": "display_data",
          "data": {
            "text/plain": [
              "<Figure size 1000x600 with 1 Axes>"
            ],
            "image/png": "[encoded data removed]"
          },
          "metadata": {}
        }
      ],
      "source": [
        "import matplotlib.pyplot as plt\n",
        "\n",
        "# Select the columns of interest\n",
        "columns_to_visualize = ['Energ_Kcal', 'cluster']\n",
        "\n",
        "# Get the subset of the DataFrame for the selected columns\n",
        "subset = df[columns_to_visualize]\n",
        "\n",
        "# Set the figure size\n",
        "plt.figure(figsize=(10, 6))\n",
        "\n",
        "# Create the line plot\n",
        "for caloric_level in subset['cluster'].unique():\n",
        "    level_data = subset[subset['cluster'] == caloric_level]\n",
        "    plt.plot(level_data.index, level_data['Energ_Kcal'], label=caloric_level)\n",
        "\n",
        "plt.xlabel('Index')\n",
        "plt.ylabel('Energ_Kcal')\n",
        "plt.title('Change in Energ_Kcal at Various Caloric Levels')\n",
        "plt.legend()\n",
        "\n",
        "# Show the plot\n",
        "plt.show()"
      ]
    },
    {
      "cell_type": "markdown",
      "metadata": {
        "id": "8wiz48agnnhM"
      },
      "source": [
        "Recommendation system"
      ]
    },
    {
      "cell_type": "code",
      "source": [
        "import random"
      ],
      "metadata": {
        "id": "4IxyyMHwRIum"
      },
      "execution_count": 20,
      "outputs": []
    },
    {
      "cell_type": "code",
      "source": [
        "from sklearn.preprocessing import LabelEncoder\n",
        "# Define the categorical labels\n",
        "categories = {2: 'low', 1: 'mid', 0: 'high'}\n",
        "\n",
        "# Map the numerical values to categorical labels\n",
        "df['caloric level'] = df['cluster1'].map(categories)\n",
        "\n",
        "# Print the DataFrame with the new categorical column\n",
        "df.columns"
      ],
      "metadata": {
        "colab": {
          "base_uri": "https://localhost:8080/"
        },
        "id": "gDUssBFiMSma",
        "outputId": "79b01ba0-2af5-4d10-a7de-1ae60ee842a6"
      },
      "execution_count": 21,
      "outputs": [
        {
          "output_type": "execute_result",
          "data": {
            "text/plain": [
              "Index(['index', 'NDB_No', 'Shrt_Desc', 'Water_(g)', 'Energ_Kcal',\n",
              "       'Protein_(g)', 'Lipid_Tot_(g)', 'Ash_(g)', 'Carbohydrt_(g)',\n",
              "       'Fiber_TD_(g)', 'Sugar_Tot_(g)', 'Calcium_(mg)', 'Iron_(mg)',\n",
              "       'Magnesium_(mg)', 'Phosphorus_(mg)', 'Potassium_(mg)', 'Sodium_(mg)',\n",
              "       'Zinc_(mg)', 'Copper_mg)', 'Manganese_(mg)', 'Selenium_(µg)',\n",
              "       'Vit_C_(mg)', 'Thiamin_(mg)', 'Riboflavin_(mg)', 'Niacin_(mg)',\n",
              "       'Panto_Acid_mg)', 'Vit_B6_(mg)', 'Folate_Tot_(µg)', 'Folic_Acid_(µg)',\n",
              "       'Food_Folate_(µg)', 'Folate_DFE_(µg)', 'Choline_Tot_ (mg)',\n",
              "       'Vit_B12_(µg)', 'Vit_A_IU', 'Vit_A_RAE', 'Retinol_(µg)',\n",
              "       'Alpha_Carot_(µg)', 'Beta_Carot_(µg)', 'Beta_Crypt_(µg)',\n",
              "       'Lycopene_(µg)', 'Lut+Zea_ (µg)', 'Vit_E_(mg)', 'Vit_D_µg', 'Vit_D_IU',\n",
              "       'Vit_K_(µg)', 'FA_Sat_(g)', 'FA_Mono_(g)', 'FA_Poly_(g)',\n",
              "       'Cholestrl_(mg)', 'GmWt_1', 'GmWt_Desc1', 'GmWt_2', 'GmWt_Desc2',\n",
              "       'Refuse_Pct', 'cluster', 'cluster1', 'caloric level'],\n",
              "      dtype='object')"
            ]
          },
          "metadata": {},
          "execution_count": 21
        }
      ]
    },
    {
      "cell_type": "code",
      "source": [
        "df.to_csv(\"C:\\\\Users\\\\t\\\\Downloads\\\\Diet recommendation\\\\data for recommendation.csv\")"
      ],
      "metadata": {
        "id": "AzsV5O_XkW1O"
      },
      "execution_count": 22,
      "outputs": []
    },
    {
      "cell_type": "code",
      "execution_count": 45,
      "metadata": {
        "id": "v_Jlh8LOleFb"
      },
      "outputs": [],
      "source": [
        "def recommend_diets(caloric_level,caloric_value , n=10):\n",
        "    # Filter the dataset based on the caloric level\n",
        "    filtered_data = df[df['caloric level'] == caloric_level]\n",
        "\n",
        "    # Sort the diets based on some criteria (e.g., nutrients)\n",
        "    sorted_diets = filtered_data.sort_values(by=['Energ_Kcal'], ascending=False)\n",
        "\n",
        "    # Return the top n recommended diets\n",
        "    dff = sorted_diets\n",
        "    recommended_diets = dff[(dff['Energ_Kcal'] >= caloric_value) & (dff['Energ_Kcal'] <= caloric_value + 100)]\n",
        "\n",
        "    return recommended_diets.head(n)\n",
        "\n",
        "# Example usage:\n",
        "top_10_diets_low_calorie = recommend_diets('low', 120,  n=5)\n",
        "top_10_diets_mid_calorie = recommend_diets('mid', 300, n=10)\n",
        "top_10_diets_high_calorie = recommend_diets('high', 800, n=5)"
      ]
    },
    {
      "cell_type": "code",
      "source": [
        "top_10_diets_high_calorie[['Shrt_Desc', 'Energ_Kcal']].set_index(\n",
        "    [pd.Index(['student-1', 'student-2', 'student-3', 'student-4', '5'])])"
      ],
      "metadata": {
        "id": "hU7yoVUpmkMg",
        "colab": {
          "base_uri": "https://localhost:8080/",
          "height": 206
        },
        "outputId": "899f3482-1bb7-4493-d26f-9b629cf83de3"
      },
      "execution_count": 46,
      "outputs": [
        {
          "output_type": "execute_result",
          "data": {
            "text/plain": [
              "                                               Shrt_Desc  Energ_Kcal\n",
              "student-1  SHORTENING FRYING (HVY DUTY),BF TALLOW&CTTNSD         900\n",
              "student-2                     OIL,WALRUS (ALASKA NATIVE)         900\n",
              "student-3               OIL,BELUGA,WHALE (ALASKA NATIVE)         900\n",
              "student-4                                      FAT,GOOSE         900\n",
              "5                                             FAT,TURKEY         900"
            ],
            "text/html": [
              "\n",
              "\n",
              "  <div id=\"df-02bb9453-e3b8-46bc-9e6f-7a89d2d1ab01\">\n",
              "    <div class=\"colab-df-container\">\n",
              "      <div>\n",
              "<style scoped>\n",
              "    .dataframe tbody tr th:only-of-type {\n",
              "        vertical-align: middle;\n",
              "    }\n",
              "\n",
              "    .dataframe tbody tr th {\n",
              "        vertical-align: top;\n",
              "    }\n",
              "\n",
              "    .dataframe thead th {\n",
              "        text-align: right;\n",
              "    }\n",
              "</style>\n",
              "<table border=\"1\" class=\"dataframe\">\n",
              "  <thead>\n",
              "    <tr style=\"text-align: right;\">\n",
              "      <th></th>\n",
              "      <th>Shrt_Desc</th>\n",
              "      <th>Energ_Kcal</th>\n",
              "    </tr>\n",
              "  </thead>\n",
              "  <tbody>\n",
              "    <tr>\n",
              "      <th>student-1</th>\n",
              "      <td>SHORTENING FRYING (HVY DUTY),BF TALLOW&amp;CTTNSD</td>\n",
              "      <td>900</td>\n",
              "    </tr>\n",
              "    <tr>\n",
              "      <th>student-2</th>\n",
              "      <td>OIL,WALRUS (ALASKA NATIVE)</td>\n",
              "      <td>900</td>\n",
              "    </tr>\n",
              "    <tr>\n",
              "      <th>student-3</th>\n",
              "      <td>OIL,BELUGA,WHALE (ALASKA NATIVE)</td>\n",
              "      <td>900</td>\n",
              "    </tr>\n",
              "    <tr>\n",
              "      <th>student-4</th>\n",
              "      <td>FAT,GOOSE</td>\n",
              "      <td>900</td>\n",
              "    </tr>\n",
              "    <tr>\n",
              "      <th>5</th>\n",
              "      <td>FAT,TURKEY</td>\n",
              "      <td>900</td>\n",
              "    </tr>\n",
              "  </tbody>\n",
              "</table>\n",
              "</div>\n",
              "      <button class=\"colab-df-convert\" onclick=\"convertToInteractive('df-02bb9453-e3b8-46bc-9e6f-7a89d2d1ab01')\"\n",
              "              title=\"Convert this dataframe to an interactive table.\"\n",
              "              style=\"display:none;\">\n",
              "\n",
              "  <svg xmlns=\"http://www.w3.org/2000/svg\" height=\"24px\"viewBox=\"0 0 24 24\"\n",
              "       width=\"24px\">\n",
              "    <path d=\"M0 0h24v24H0V0z\" fill=\"none\"/>\n",
              "    <path d=\"M18.56 5.44l.94 2.06.94-2.06 2.06-.94-2.06-.94-.94-2.06-.94 2.06-2.06.94zm-11 1L8.5 8.5l.94-2.06 2.06-.94-2.06-.94L8.5 2.5l-.94 2.06-2.06.94zm10 10l.94 2.06.94-2.06 2.06-.94-2.06-.94-.94-2.06-.94 2.06-2.06.94z\"/><path d=\"M17.41 7.96l-1.37-1.37c-.4-.4-.92-.59-1.43-.59-.52 0-1.04.2-1.43.59L10.3 9.45l-7.72 7.72c-.78.78-.78 2.05 0 2.83L4 21.41c.39.39.9.59 1.41.59.51 0 1.02-.2 1.41-.59l7.78-7.78 2.81-2.81c.8-.78.8-2.07 0-2.86zM5.41 20L4 18.59l7.72-7.72 1.47 1.35L5.41 20z\"/>\n",
              "  </svg>\n",
              "      </button>\n",
              "\n",
              "\n",
              "\n",
              "    <div id=\"df-4a64c063-19f0-4f04-aae4-0e02c659fc76\">\n",
              "      <button class=\"colab-df-quickchart\" onclick=\"quickchart('df-4a64c063-19f0-4f04-aae4-0e02c659fc76')\"\n",
              "              title=\"Suggest charts.\"\n",
              "              style=\"display:none;\">\n",
              "\n",
              "<svg xmlns=\"http://www.w3.org/2000/svg\" height=\"24px\"viewBox=\"0 0 24 24\"\n",
              "     width=\"24px\">\n",
              "    <g>\n",
              "        <path d=\"M19 3H5c-1.1 0-2 .9-2 2v14c0 1.1.9 2 2 2h14c1.1 0 2-.9 2-2V5c0-1.1-.9-2-2-2zM9 17H7v-7h2v7zm4 0h-2V7h2v10zm4 0h-2v-4h2v4z\"/>\n",
              "    </g>\n",
              "</svg>\n",
              "      </button>\n",
              "    </div>\n",
              "\n",
              "<style>\n",
              "  .colab-df-quickchart {\n",
              "    background-color: #E8F0FE;\n",
              "    border: none;\n",
              "    border-radius: 50%;\n",
              "    cursor: pointer;\n",
              "    display: none;\n",
              "    fill: #1967D2;\n",
              "    height: 32px;\n",
              "    padding: 0 0 0 0;\n",
              "    width: 32px;\n",
              "  }\n",
              "\n",
              "  .colab-df-quickchart:hover {\n",
              "    background-color: #E2EBFA;\n",
              "    box-shadow: 0px 1px 2px rgba(60, 64, 67, 0.3), 0px 1px 3px 1px rgba(60, 64, 67, 0.15);\n",
              "    fill: #174EA6;\n",
              "  }\n",
              "\n",
              "  [theme=dark] .colab-df-quickchart {\n",
              "    background-color: #3B4455;\n",
              "    fill: #D2E3FC;\n",
              "  }\n",
              "\n",
              "  [theme=dark] .colab-df-quickchart:hover {\n",
              "    background-color: #434B5C;\n",
              "    box-shadow: 0px 1px 3px 1px rgba(0, 0, 0, 0.15);\n",
              "    filter: drop-shadow(0px 1px 2px rgba(0, 0, 0, 0.3));\n",
              "    fill: #FFFFFF;\n",
              "  }\n",
              "</style>\n",
              "\n",
              "    <script>\n",
              "      async function quickchart(key) {\n",
              "        const containerElement = document.querySelector('#' + key);\n",
              "        const charts = await google.colab.kernel.invokeFunction(\n",
              "            'suggestCharts', [key], {});\n",
              "      }\n",
              "    </script>\n",
              "\n",
              "      <script>\n",
              "\n",
              "function displayQuickchartButton(domScope) {\n",
              "  let quickchartButtonEl =\n",
              "    domScope.querySelector('#df-4a64c063-19f0-4f04-aae4-0e02c659fc76 button.colab-df-quickchart');\n",
              "  quickchartButtonEl.style.display =\n",
              "    google.colab.kernel.accessAllowed ? 'block' : 'none';\n",
              "}\n",
              "\n",
              "        displayQuickchartButton(document);\n",
              "      </script>\n",
              "      <style>\n",
              "    .colab-df-container {\n",
              "      display:flex;\n",
              "      flex-wrap:wrap;\n",
              "      gap: 12px;\n",
              "    }\n",
              "\n",
              "    .colab-df-convert {\n",
              "      background-color: #E8F0FE;\n",
              "      border: none;\n",
              "      border-radius: 50%;\n",
              "      cursor: pointer;\n",
              "      display: none;\n",
              "      fill: #1967D2;\n",
              "      height: 32px;\n",
              "      padding: 0 0 0 0;\n",
              "      width: 32px;\n",
              "    }\n",
              "\n",
              "    .colab-df-convert:hover {\n",
              "      background-color: #E2EBFA;\n",
              "      box-shadow: 0px 1px 2px rgba(60, 64, 67, 0.3), 0px 1px 3px 1px rgba(60, 64, 67, 0.15);\n",
              "      fill: #174EA6;\n",
              "    }\n",
              "\n",
              "    [theme=dark] .colab-df-convert {\n",
              "      background-color: #3B4455;\n",
              "      fill: #D2E3FC;\n",
              "    }\n",
              "\n",
              "    [theme=dark] .colab-df-convert:hover {\n",
              "      background-color: #434B5C;\n",
              "      box-shadow: 0px 1px 3px 1px rgba(0, 0, 0, 0.15);\n",
              "      filter: drop-shadow(0px 1px 2px rgba(0, 0, 0, 0.3));\n",
              "      fill: #FFFFFF;\n",
              "    }\n",
              "  </style>\n",
              "\n",
              "      <script>\n",
              "        const buttonEl =\n",
              "          document.querySelector('#df-02bb9453-e3b8-46bc-9e6f-7a89d2d1ab01 button.colab-df-convert');\n",
              "        buttonEl.style.display =\n",
              "          google.colab.kernel.accessAllowed ? 'block' : 'none';\n",
              "\n",
              "        async function convertToInteractive(key) {\n",
              "          const element = document.querySelector('#df-02bb9453-e3b8-46bc-9e6f-7a89d2d1ab01');\n",
              "          const dataTable =\n",
              "            await google.colab.kernel.invokeFunction('convertToInteractive',\n",
              "                                                     [key], {});\n",
              "          if (!dataTable) return;\n",
              "\n",
              "          const docLinkHtml = 'Like what you see? Visit the ' +\n",
              "            '<a target=\"_blank\" href=https://colab.research.google.com/notebooks/data_table.ipynb>data table notebook</a>'\n",
              "            + ' to learn more about interactive tables.';\n",
              "          element.innerHTML = '';\n",
              "          dataTable['output_type'] = 'display_data';\n",
              "          await google.colab.output.renderOutput(dataTable, element);\n",
              "          const docLink = document.createElement('div');\n",
              "          docLink.innerHTML = docLinkHtml;\n",
              "          element.appendChild(docLink);\n",
              "        }\n",
              "      </script>\n",
              "    </div>\n",
              "  </div>\n"
            ]
          },
          "metadata": {},
          "execution_count": 46
        }
      ]
    },
    {
      "cell_type": "markdown",
      "metadata": {
        "id": "OOSBoZvbpXGK"
      },
      "source": [
        "Code for pregnancy woman input"
      ]
    },
    {
      "cell_type": "code",
      "execution_count": 25,
      "metadata": {
        "id": "99fjS3wm4PGL"
      },
      "outputs": [],
      "source": [
        "def nutrients(age, height, weight, preg_stage, active):\n",
        "    if active.lower() == 'sedentary':\n",
        "        active = 1.2\n",
        "    elif active.lower() == \"light active\":\n",
        "        active = 1.375\n",
        "    elif active.lower() == \"moderately active\":\n",
        "        active = 1.55\n",
        "    elif active.lower() == \"very active\":\n",
        "        active = 1.75\n",
        "\n",
        "    bmi = weight / (height * height)\n",
        "    if bmi < 18.5:\n",
        "        person = 'Underweight'\n",
        "        if preg_stage.lower() == \"firsttrimester\":\n",
        "            goal = 2\n",
        "        elif preg_stage.lower() == \"secondtrimester\":\n",
        "            goal = 10\n",
        "        elif preg_stage.lower() == \"thirdtrimester\":\n",
        "            goal = 18\n",
        "    elif bmi >= 18.5 and bmi <= 25:\n",
        "        person = 'Health in Weight'\n",
        "        if preg_stage.lower() == \"firsttrimester\":\n",
        "            goal = 2\n",
        "        elif preg_stage.lower() == \"secondtrimester\":\n",
        "            goal = 10\n",
        "        elif preg_stage.lower() == \"thirdtrimester\":\n",
        "            goal = 16\n",
        "    elif bmi > 25:\n",
        "        person = 'Overweight'\n",
        "        if preg_stage.lower() == \"firsttrimester\":\n",
        "            goal = 2\n",
        "        elif preg_stage.lower() == \"secondtrimester\":\n",
        "            goal = 7\n",
        "        elif preg_stage.lower() == \"thirdtrimester\":\n",
        "            goal = 11\n",
        "\n",
        "    # Mifflin-St Jeor BMR equation to get the BMR formula\n",
        "    bmr = 10 * weight + 6.25 * height - 5 * age - 161\n",
        "\n",
        "    # Needed calories = BMR multiplied by the activity level\n",
        "    caloric_intake = bmr * float(active)\n",
        "\n",
        "    return caloric_intake\n",
        "\n",
        "def classify_caloric_intake(caloric_intake):\n",
        "    if caloric_intake < 300:\n",
        "        classification = \"low\"\n",
        "    elif caloric_intake >= 300 and caloric_intake <= 350:\n",
        "        classification = \"mid\"\n",
        "    else:\n",
        "        classification = \"high\"\n",
        "\n",
        "    return classification"
      ]
    },
    {
      "cell_type": "code",
      "source": [
        "# Collect user input\n",
        "age = int(input(\"Enter your age in years: \"))\n",
        "height = float(input(\"Enter your height in meters: \"))\n",
        "weight = float(input(\"Enter your weight in kilograms: \"))\n",
        "preg_stage = input(\"Enter your pregnancy stage (FirstTrimester, SecondTrimester, ThirdTrimester): \")\n",
        "active = input(\"Enter your activity level (Sedentary, Light Active, Moderately Active, Very Active): \")\n",
        "\n",
        "# Calculate caloric intake\n",
        "caloric_intake = nutrients(age, height, weight, preg_stage, active)\n",
        "\n",
        "# Classify caloric intake\n",
        "caloric_classification = classify_caloric_intake(caloric_intake)\n",
        "# Display the result\n",
        "print(\"Your recommended caloric intake is:\", caloric_intake, \"calories per day.\")\n",
        "print(\"Caloric Intake Classification:\", caloric_classification)\n",
        "result = recommend_diets(caloric_classification, caloric_intake, n=5)\n",
        "print(result[['Shrt_Desc', 'Energ_Kcal']].to_string(index=False))"
      ],
      "metadata": {
        "colab": {
          "base_uri": "https://localhost:8080/"
        },
        "id": "qVnxLntFSoQ3",
        "outputId": "9dc3c173-fe3f-4b69-acec-d067086220e0"
      },
      "execution_count": 32,
      "outputs": [
        {
          "output_type": "stream",
          "name": "stdout",
          "text": [
            "Enter your age in years: 34\n",
            "Enter your height in meters: 1.4\n",
            "Enter your weight in kilograms: 54\n",
            "Enter your pregnancy stage (FirstTrimester, SecondTrimester, ThirdTrimester): SecondTrimester\n",
            "Enter your activity level (Sedentary, Light Active, Moderately Active, Very Active): Light Active\n",
            "Your recommended caloric intake is: 299.40625 calories per day.\n",
            "Caloric Intake Classification: low\n",
            "Empty DataFrame\n",
            "Columns: [Shrt_Desc, Energ_Kcal]\n",
            "Index: []\n"
          ]
        }
      ]
    },
    {
      "cell_type": "code",
      "source": [
        "pip install dill"
      ],
      "metadata": {
        "colab": {
          "base_uri": "https://localhost:8080/"
        },
        "id": "uVp0oY8uuWhe",
        "outputId": "4f118b13-f8ef-49c8-9810-7265ecabe459"
      },
      "execution_count": 27,
      "outputs": [
        {
          "output_type": "stream",
          "name": "stdout",
          "text": [
            "Requirement already satisfied: dill in /usr/local/lib/python3.10/dist-packages (0.3.7)\n"
          ]
        }
      ]
    },
    {
      "cell_type": "markdown",
      "source": [
        "DEFINING THE FUNCTIONS IN A CLASS"
      ],
      "metadata": {
        "id": "ngSOflF6yixV"
      }
    },
    {
      "cell_type": "code",
      "source": [
        "class DietRecommendation:\n",
        "\n",
        "    def recommend_diets(self, caloric_level, caloric_value, n=10):\n",
        "        # Filter the dataset based on the caloric level\n",
        "        filtered_data = self.df[self.df['caloric level'] == caloric_level]\n",
        "\n",
        "        # Sort the diets based on some criteria (e.g., nutrients)\n",
        "        sorted_diets = filtered_data.sort_values(by=['Energ_Kcal'], ascending=False)\n",
        "\n",
        "        # Return the top n recommended diets\n",
        "        dff = sorted_diets\n",
        "        recommended_diets = dff[(dff['Energ_Kcal'] >= caloric_value) & (dff['Energ_Kcal'] <= caloric_value + 100)]\n",
        "\n",
        "        return recommended_diets.head(n)\n",
        "\n",
        "    def nutrients(self, age, height, weight, preg_stage, active):\n",
        "        if active.lower() == 'sedentary':\n",
        "            active = 1.2\n",
        "        elif active.lower() == \"light active\":\n",
        "            active = 1.375\n",
        "        elif active.lower() == \"moderately active\":\n",
        "            active = 1.55\n",
        "        elif active.lower() == \"very active\":\n",
        "            active = 1.75\n",
        "\n",
        "        bmi = weight / (height * height)\n",
        "        if bmi < 18.5:\n",
        "            person = 'Underweight'\n",
        "            if preg_stage.lower() == \"firsttrimester\":\n",
        "                goal = 2\n",
        "            elif preg_stage.lower() == \"secondtrimester\":\n",
        "                goal = 10\n",
        "            elif preg_stage.lower() == \"thirdtrimester\":\n",
        "                goal = 18\n",
        "        elif bmi >= 18.5 and bmi <= 25:\n",
        "            person = 'Health in Weight'\n",
        "            if preg_stage.lower() == \"firsttrimester\":\n",
        "                goal = 2\n",
        "            elif preg_stage.lower() == \"secondtrimester\":\n",
        "                goal = 10\n",
        "            elif preg_stage.lower() == \"thirdtrimester\":\n",
        "                goal = 16\n",
        "        elif bmi > 25:\n",
        "            person = 'Overweight'\n",
        "            if preg_stage.lower() == \"firsttrimester\":\n",
        "                goal = 2\n",
        "            elif preg_stage.lower() == \"secondtrimester\":\n",
        "                goal = 7\n",
        "            elif preg_stage.lower() == \"thirdtrimester\":\n",
        "                goal = 11\n",
        "\n",
        "        # Mifflin-St Jeor BMR equation to get the BMR formula\n",
        "        bmr = 10 * weight + 6.25 * height - 5 * age - 161\n",
        "\n",
        "        # Needed calories = BMR multiplied by the activity level\n",
        "        caloric_intake = bmr * float(active)\n",
        "\n",
        "        return caloric_intake\n",
        "\n",
        "    def classify_caloric_intake(self, caloric_intake):\n",
        "        if caloric_intake < 300:\n",
        "            classification = \"low\"\n",
        "        elif caloric_intake >= 300 and caloric_intake <= 350:\n",
        "            classification = \"mid\"\n",
        "        else:\n",
        "            classification = \"high\"\n",
        "\n",
        "        return classification\n"
      ],
      "metadata": {
        "id": "7LqZthGgyh7j"
      },
      "execution_count": 28,
      "outputs": []
    },
    {
      "cell_type": "code",
      "source": [
        "import dill as pickle\n",
        "# Create an instance of the DietRecommendation class\n",
        "diet_recommendation = DietRecommendation()\n",
        "# Pickle the DietRecommendation instance to a file\n",
        "#with open('diet_recommendation.pkl', 'wb') as file:\n",
        " #   pickle.dump(diet_recommendation, file)\n",
        "\n",
        "def pickle_function(func, filename):\n",
        "    with open(filename, 'wb') as file:\n",
        "        pickle.dump(func, file)\n",
        "pickle_function(diet_recommendation.recommend_diets, 'recommend_function.pka')\n",
        "pickle_function(diet_recommendation.nutrients, 'nutrient.pkbb')\n",
        "pickle_function(diet_recommendation.classify_caloric_intake, 'classify_caloric_intake.pkc')"
      ],
      "metadata": {
        "id": "0k-9BHomy8Hf"
      },
      "execution_count": 31,
      "outputs": []
    },
    {
      "cell_type": "code",
      "source": [
        "\n",
        "\n",
        "\n",
        "\n",
        "\n",
        "\n"
      ],
      "metadata": {
        "id": "CvbFSnOClEyr"
      },
      "execution_count": null,
      "outputs": []
    }
  ],
  "metadata": {
    "colab": {
      "provenance": []
    },
    "kernelspec": {
      "display_name": "Python 3",
      "name": "python3"
    },
    "language_info": {
      "name": "python"
    }
  },
  "nbformat": 4,
  "nbformat_minor": 0
}